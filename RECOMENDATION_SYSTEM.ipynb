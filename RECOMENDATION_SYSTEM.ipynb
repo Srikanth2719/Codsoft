{
  "nbformat": 4,
  "nbformat_minor": 0,
  "metadata": {
    "colab": {
      "provenance": [],
      "authorship_tag": "ABX9TyPurcReA2WJrDxT8jdCi2en",
      "include_colab_link": true
    },
    "kernelspec": {
      "name": "python3",
      "display_name": "Python 3"
    },
    "language_info": {
      "name": "python"
    }
  },
  "cells": [
    {
      "cell_type": "markdown",
      "metadata": {
        "id": "view-in-github",
        "colab_type": "text"
      },
      "source": [
        "<a href=\"https://colab.research.google.com/github/Srikanth2719/Codsoft/blob/main/RECOMENDATION_SYSTEM.ipynb\" target=\"_parent\"><img src=\"https://colab.research.google.com/assets/colab-badge.svg\" alt=\"Open In Colab\"/></a>"
      ]
    },
    {
      "cell_type": "code",
      "source": [
        "import numpy as np\n",
        "from sklearn.metrics.pairwise import cosine_similarity\n",
        "\n",
        "# Example user-item interaction matrix\n",
        "user_item_matrix = np.array([\n",
        "    [3, 0, 4, 0],\n",
        "    [0, 5, 0, 2],\n",
        "    [1, 0, 5, 4]\n",
        "])\n",
        "\n",
        "# Calculate cosine similarity between users\n",
        "user_similarity = cosine_similarity(user_item_matrix)\n",
        "\n",
        "# Example: Recommend items for User1 (index 0)\n",
        "user_index = 0\n",
        "similar_users = np.argsort(user_similarity[user_index])[::-1]  # Sort in descending order of similarity\n",
        "\n",
        "recommended_items = []\n",
        "for user in similar_users:\n",
        "    if user == user_index:\n",
        "        continue  # Skip the user itself\n",
        "    # Find items that the similar user has rated and user_index has not\n",
        "    rated_items = np.where(user_item_matrix[user] != 0)[0]\n",
        "    for item in rated_items:\n",
        "        if user_item_matrix[user_index, item] == 0:  # User1 has not rated this item\n",
        "            recommended_items.append(item)\n",
        "\n",
        "print(f\"Recommended items): {recommended_items}\")\n"
      ],
      "metadata": {
        "id": "zt6qtYh5NVmu",
        "colab": {
          "base_uri": "https://localhost:8080/"
        },
        "outputId": "51ee250b-0549-4e8f-df78-76b02ba0b2a8"
      },
      "execution_count": 3,
      "outputs": [
        {
          "output_type": "stream",
          "name": "stdout",
          "text": [
            "Recommended items): [3, 1, 3]\n"
          ]
        }
      ]
    }
  ]
}